{
 "cells": [
  {
   "cell_type": "code",
   "execution_count": null,
   "metadata": {},
   "outputs": [],
   "source": [
    "from vvasp import VVASPAtlas\n",
    "\n",
    "mouse_atlas_cosmos = VVASPAtlas(mapping='Cosmos')\n",
    "mouse_atlas_beryl = VVASPAtlas(mapping='Beryl')\n",
    "rat_atlas = VVASPAtlas(atlas_name='whs_sd_rat_39um', min_tree_depth=3, max_tree_depth=12, mapping=None)\n",
    "\n",
    "mouse_atlas_cosmos.plot_2d_slice('coronal', 0)\n",
    "mouse_atlas_beryl.plot_2d_slice('coronal', 0)\n",
    "rat_atlas.plot_2d_slice('coronal', 2000)\n",
    "\n",
    "mouse_atlas_cosmos.plot_2d_slice('sagittal', 1500)\n",
    "mouse_atlas_cosmos.plot_2d_slice('transverse', -1200)"
   ]
  }
 ],
 "metadata": {
  "kernelspec": {
   "display_name": "spks",
   "language": "python",
   "name": "python3"
  },
  "language_info": {
   "codemirror_mode": {
    "name": "ipython",
    "version": 3
   },
   "file_extension": ".py",
   "mimetype": "text/x-python",
   "name": "python",
   "nbconvert_exporter": "python",
   "pygments_lexer": "ipython3",
   "version": "3.10.12"
  }
 },
 "nbformat": 4,
 "nbformat_minor": 2
}
