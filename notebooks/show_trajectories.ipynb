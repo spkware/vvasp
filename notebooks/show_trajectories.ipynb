{
 "cells": [
  {
   "cell_type": "markdown",
   "metadata": {},
   "source": [
    "## Show allen atlas and probe trajectories"
   ]
  },
  {
   "cell_type": "code",
   "execution_count": null,
   "metadata": {},
   "outputs": [],
   "source": [
    "from vvasp.VizClasses import NeuropixelsChronicHolder\n",
    "from vvasp.atlas_utils import Atlas as VvaspAtlas\n",
    "import pyvista as pv"
   ]
  },
  {
   "cell_type": "code",
   "execution_count": null,
   "metadata": {},
   "outputs": [],
   "source": [
    "insertion_data = [dict(entry=[-1578.0, -2485.0],\n",
    "                       depth=3110,\n",
    "                       angles=[115, 0, -10]),\n",
    "                  dict(entry=[-76, 1730],\n",
    "                       depth=4510,\n",
    "                       angles=[135, 0, 110]),\n",
    "                  dict(entry=[-2221, 1313],\n",
    "                       depth=3801,\n",
    "                       angles=[85, 0, 70]),]\n",
    "\n",
    "regions_to_show = ['VISp','CP','ACA','MOp']"
   ]
  },
  {
   "cell_type": "code",
   "execution_count": null,
   "metadata": {},
   "outputs": [],
   "source": [
    "#from pyvistaqt import BackgroundPlotter\n",
    "#plotter = BackgroundPlotter() # non blocking plotter in a separate QT window\n",
    "plotter = pv.Plotter(notebook=True) # blocking plotter in the notebook\n",
    "plotter.show()\n",
    "\n",
    "# add the atlas to scene and show regions (defaults to Allen CCF atlas)\n",
    "atlas = VvaspAtlas(plotter, min_tree_depth=6, max_tree_depth=8)\n",
    "for region in regions_to_show:\n",
    "    atlas.add_atlas_region_mesh(region)\n",
    "\n",
    "# add probes to scene\n",
    "prbs = []\n",
    "for ins in insertion_data:\n",
    "    prb = NeuropixelsChronicHolder('NP24','head_fixed', plotter, root_intersection_mesh=atlas.meshes['root'])\n",
    "    prb.drive_probe_from_entry(ins['entry'], ins['angles'], ins['depth']) # position the probe via an entry point, angles and driven depth\n",
    "    #prb.set_location(ins['tip'],ins['angles']) # use this method to position probes if you know the probe tip location instead of the entry point\n",
    "    prb.make_inactive() # color probe black\n",
    "    prbs.append(prb)\n",
    "plotter.isometric_view()"
   ]
  },
  {
   "cell_type": "code",
   "execution_count": null,
   "metadata": {},
   "outputs": [],
   "source": [
    "# update the probe positions, the plotter will update in real time\n",
    "for p in prbs:\n",
    "    p.move('left',10000)"
   ]
  }
 ],
 "metadata": {
  "kernelspec": {
   "display_name": "spks",
   "language": "python",
   "name": "python3"
  },
  "language_info": {
   "codemirror_mode": {
    "name": "ipython",
    "version": 3
   },
   "file_extension": ".py",
   "mimetype": "text/x-python",
   "name": "python",
   "nbconvert_exporter": "python",
   "pygments_lexer": "ipython3",
   "version": "3.10.12"
  }
 },
 "nbformat": 4,
 "nbformat_minor": 2
}
