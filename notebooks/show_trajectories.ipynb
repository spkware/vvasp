{
 "cells": [
  {
   "cell_type": "markdown",
   "metadata": {},
   "source": [
    "## Show allen atlas and probe trajectories"
   ]
  },
  {
   "cell_type": "code",
   "execution_count": null,
   "metadata": {},
   "outputs": [],
   "source": [
    "import pyvista as pv\n",
    "from vvasp import NeuropixelsChronicHolder, CustomMeshObject, Probe, VVASPAtlas"
   ]
  },
  {
   "cell_type": "markdown",
   "metadata": {},
   "source": [
    "### Define the insertion data\n",
    "You can define insertions (1) via angles, an AP/ML entrypoint, and a depth along the shank (from the pia), or (2) with the AP/ML/DV tip position and angles. This example shows the first method."
   ]
  },
  {
   "cell_type": "code",
   "execution_count": null,
   "metadata": {},
   "outputs": [],
   "source": [
    "insertion_data = [dict(entry=[-1578.0, -2485.0], # AP, ML\n",
    "                       depth=3110,\n",
    "                       angles=[115, 0, -10]),\n",
    "                  dict(entry=[-76, 1730],\n",
    "                       depth=4510,\n",
    "                       angles=[135, 0, 110]),\n",
    "                  dict(entry=[-2221, 1313],\n",
    "                       depth=3801,\n",
    "                       angles=[85, 0, 70]),]\n",
    "\n",
    "regions_to_show = ['VISp','CP','ACA','MOp']"
   ]
  },
  {
   "cell_type": "markdown",
   "metadata": {},
   "source": [
    "### Initialize the plotter and add the atlas and probes to the scene"
   ]
  },
  {
   "cell_type": "code",
   "execution_count": null,
   "metadata": {},
   "outputs": [],
   "source": [
    "# initialize plotter\n",
    "plotter = pv.Plotter(notebook=True) # blocking plotter in the notebook\n",
    "#from pyvistaqt import BackgroundPlotter\n",
    "#plotter = BackgroundPlotter() # non blocking plotter in a separate QT window\n",
    "\n",
    "# add the atlas to scene and show regions (defaults to Allen CCF atlas)\n",
    "atlas = VVASPAtlas(plotter, min_tree_depth=6, max_tree_depth=8, mapping=None)\n",
    "\n",
    "for region in regions_to_show:\n",
    "    atlas.add_atlas_region_mesh(region)\n",
    "\n",
    "# add probes to scene\n",
    "prbs = []\n",
    "for ins in insertion_data:\n",
    "\n",
    "    prb = NeuropixelsChronicHolder('NP24','head_fixed', plotter) # This object renders shanks AND the indie chronic holder \n",
    "    #prb = Probe('NP24',plotter) # this object renders only the shanks\n",
    "\n",
    "    prb.drive_probe_from_entry(ins['entry'], ins['angles'], ins['depth'], root_mesh=atlas.meshes['root']) # position the probe via an entry point, angles and driven depth\n",
    "    #prb.set_location(ins['tip'],ins['angles']) # use this method to position probes if you know the probe tip location instead of the entry point\n",
    "\n",
    "    prb.make_inactive() # color shanks black\n",
    "    prbs.append(prb)\n",
    "plotter.isometric_view()"
   ]
  },
  {
   "cell_type": "code",
   "execution_count": null,
   "metadata": {},
   "outputs": [],
   "source": [
    "# now show the scene\n",
    "plotter.show() \n",
    "#plotter.show(jupyter_backend='client') # 'client' looks and performs better than 'server' on my machine, but doesn't allow further programmatic updating of the scene"
   ]
  },
  {
   "cell_type": "code",
   "execution_count": null,
   "metadata": {},
   "outputs": [],
   "source": [
    "# show the regions that the shanks for one probe pass through\n",
    "_, acronyms = prbs[0].compute_region_intersections(atlas)\n",
    "for i,a in enumerate(acronyms):\n",
    "    print(f'Shank {i}: {a}')"
   ]
  },
  {
   "cell_type": "markdown",
   "metadata": {},
   "source": [
    "### Programatically set camera position - see PyVista docs for more info"
   ]
  },
  {
   "cell_type": "code",
   "execution_count": null,
   "metadata": {},
   "outputs": [],
   "source": [
    "plotter.camera_position = [\n",
    "    (0,0,60_000),\n",
    "    (0,0,0),\n",
    "    (0,0,0),\n",
    "]\n",
    "plotter.update()"
   ]
  },
  {
   "cell_type": "markdown",
   "metadata": {},
   "source": [
    "### Real time updates of the pyvista scene"
   ]
  },
  {
   "cell_type": "code",
   "execution_count": null,
   "metadata": {},
   "outputs": [],
   "source": [
    "# update the probe positions, the plotter will update in real time\n",
    "for p in prbs:\n",
    "    p.move('left',1000)\n",
    "plotter.update() # force the plotter to redraw the scene"
   ]
  },
  {
   "cell_type": "markdown",
   "metadata": {},
   "source": [
    "### Render your own custom meshes to the scene"
   ]
  },
  {
   "cell_type": "code",
   "execution_count": null,
   "metadata": {},
   "outputs": [],
   "source": [
    "# add a custom mesh to the scene\n",
    "import os\n",
    "from pathlib import Path\n",
    "meshpath = Path(os.path.abspath(\"\")).parent / 'meshes' / 'logo.stl'\n",
    "\n",
    "# you will need to supply some info about your mesh so that the mesh is properly oriented in the scene\n",
    "scale_factor = 1000 # most meshes are in mm, but the pyvista scene is in um, so you will often need to scale your mesh\n",
    "mesh_rotation = [0,0,0] # defines the x,y,z rotations that should be applied to the mesh when it's first loaded, in case the coordinate system of the mesh is different from the coordinate system of the scene\n",
    "mesh_origin = [0,0,0] # this should be the origin that the mesh is moved and rotated about if you call .set_location() .move() or .rotate()\n",
    "obj = CustomMeshObject(meshpath,\n",
    "                       plotter, \n",
    "                       scale_factor=scale_factor, \n",
    "                       mesh_origin=mesh_origin, \n",
    "                       mesh_rotation=mesh_rotation,\n",
    "                       pyvista_mesh_args=dict(color='red', opacity=0.5))"
   ]
  },
  {
   "cell_type": "code",
   "execution_count": null,
   "metadata": {},
   "outputs": [],
   "source": [
    "obj.move('left',1000)\n",
    "plotter.update()"
   ]
  }
 ],
 "metadata": {
  "kernelspec": {
   "display_name": "spks",
   "language": "python",
   "name": "python3"
  },
  "language_info": {
   "codemirror_mode": {
    "name": "ipython",
    "version": 3
   },
   "file_extension": ".py",
   "mimetype": "text/x-python",
   "name": "python",
   "nbconvert_exporter": "python",
   "pygments_lexer": "ipython3",
   "version": "3.10.12"
  }
 },
 "nbformat": 4,
 "nbformat_minor": 2
}
