{
 "cells": [
  {
   "cell_type": "code",
   "execution_count": 4,
   "metadata": {},
   "outputs": [],
   "source": [
    "from bg_atlasapi import BrainGlobeAtlas\n",
    "# this downloads the atlas and meshes,we could also do it straight from the allen but this is easier.\n",
    "bg_atlas = BrainGlobeAtlas(\"allen_mouse_25um\", check_latest=False)  "
   ]
  },
  {
   "cell_type": "code",
   "execution_count": 5,
   "metadata": {},
   "outputs": [],
   "source": [
    "import json\n",
    "from pathlib import Path\n",
    "import numpy as np\n",
    "import pyvista as pv # for plotting 3d\n",
    "import pandas as pd\n",
    "\n",
    "from viz_helpers import Probe"
   ]
  },
  {
   "cell_type": "code",
   "execution_count": 6,
   "metadata": {},
   "outputs": [],
   "source": [
    "MOUSE = 'MMtest'\n",
    "#insertion_data = pd.read_excel('../data/insertions.xlsx') #this breaks pyvista so have to use csv\n",
    "#insertion_data.to_csv('../data/insertions.csv', index=False, sep='\\t')\n",
    "#insertion_data = pd.read_csv('../data/insertions.csv', sep='\\t')\n",
    "#insertion_data  = insertion_data[~pd.isna(insertion_data.Mouse)]\n",
    "#insertion_data = insertion_data[insertion_data.Mouse == MOUSE]"
   ]
  },
  {
   "cell_type": "code",
   "execution_count": 7,
   "metadata": {},
   "outputs": [],
   "source": [
    "#probes, sides, areas = [],[],[]\n",
    "#for index, row in insertion_data.iterrows():\n",
    "#    angles = [row['Elevation'], row['Spin'], row['Azimuth']]\n",
    "#    mlapdv = row[['ML','AP','DV']].values.astype(int)\n",
    "#    print(mlapdv)\n",
    "#    type = row['Probe']\n",
    "#    print(angles)\n",
    "#    probes.append(Probe(type, mlapdv, angles))\n",
    "#    print(angles)\n",
    "#\n",
    "#    areaname = row['Targets (Beryl)'].replace(' ','').replace('[','').replace(']','').split(',')\n",
    "#    areaname = [a.split('-') for a in areaname]\n",
    "#    areaname, side = list(zip(*areaname))\n",
    "#    side = ['left' if s == 'lh' else 'right' for s in side]\n",
    "#    areas.extend(areaname)\n",
    "#    sides.extend(side)\n",
    "#\n",
    "#areas, inds = np.unique(areas, return_index=True)\n",
    "#areas = areas.tolist()\n",
    "#areas.append('root')\n",
    "#sides = np.array(sides)[inds].tolist()"
   ]
  },
  {
   "cell_type": "code",
   "execution_count": 8,
   "metadata": {},
   "outputs": [],
   "source": [
    "# load the atlas metadata\n",
    "atlaslocation =  Path('~').expanduser()/'.brainglobe'/'allen_mouse_25um_v1.2/'\n",
    "with open(atlaslocation/'structures.json','r') as fd:\n",
    "    structures = json.load(fd)\n",
    "with open(atlaslocation/'metadata.json','r') as fd:\n",
    "    metadata = json.load(fd)\n",
    "structures = pd.DataFrame(structures)\n",
    "\n",
    "# AP,DV,ML\n",
    "BREGMA_LOCATION = np.array([216, 18,228 ])*metadata['resolution'] #don't trust too much, for the 25um atlas from https://community.brain-map.org/t/how-to-transform-ccf-x-y-z-coordinates-into-stereotactic-coordinates/1858\n",
    "#BREGMA_LOCATION = [540, 44, 570] #don't trust too much, for the 10um atlas from https://community.brain-map.org/t/how-to-transform-ccf-x-y-z-coordinates-into-stereotactic-coordinates/1858"
   ]
  },
  {
   "cell_type": "code",
   "execution_count": 9,
   "metadata": {},
   "outputs": [],
   "source": [
    "# load meshes\n",
    "def load_structure_mesh(atlaslocation,structures,acronym):\n",
    "    # meshes are in um\n",
    "    id = structures[structures.acronym == acronym].id.values\n",
    "    if len(id):\n",
    "        id = id[0]\n",
    "    else:\n",
    "        return\n",
    "    mesh = atlaslocation/'meshes'/f'{id}.obj'\n",
    "    mesh = pv.read(mesh)\n",
    "    return mesh, structures[structures.acronym == acronym].iloc[0]\n",
    "\n",
    "toplot = []\n",
    "#for acronym in ['root','CP','LP','VISp','VISa','SCs','ACA','MD']:\n",
    "for acronym in ['root','MOp','CP','VISp','VISa','SCs','ACA','MD']:\n",
    "#for acronym in areas:\n",
    "    toplot.append(load_structure_mesh(atlaslocation,structures,acronym))"
   ]
  },
  {
   "cell_type": "code",
   "execution_count": 10,
   "metadata": {},
   "outputs": [],
   "source": [
    "#setup the scene\n",
    "pv.set_jupyter_backend('trame')\n",
    "p = pv.Plotter(window_size = [1000,1000])# for saving in the next cell with high res\n",
    "#p = pv.Plotter(window_size = [600,400])\n",
    "\n",
    "axes = p.add_axes()\n",
    "axes = pv.Axes(show_actor=True, actor_scale=2.0, line_width=5)\n",
    "axes.origin = BREGMA_LOCATION #this is the camera and rotation origin, not the true origin of the axes"
   ]
  },
  {
   "cell_type": "code",
   "execution_count": 11,
   "metadata": {},
   "outputs": [],
   "source": [
    "#add brain regions to scene\n",
    "rotate5deg = True\n",
    "\n",
    "for s in toplot:\n",
    "    s[0].rotate_y(90, point=axes.origin, inplace=True) # rotate the meshes so that [x,y,z] => [ML,AP,DV]\n",
    "    s[0].rotate_x(-90, point=axes.origin, inplace=True)\n",
    "    if rotate5deg:\n",
    "        #FIXME: is the following line positive or negative?\n",
    "        s[0].rotate_x(-5,point=axes.origin, inplace=True) # allenCCF has a 5 degree tilt\n",
    "    if s[1].acronym == 'root':\n",
    "        p.add_mesh(s[0], color = s[1]['rgb_triplet'], opacity = 0.1,silhouette=False)\n",
    "    else:\n",
    "        p.add_mesh(s[0],color=s[1]['rgb_triplet'],opacity = 0.7, silhouette=dict(color='#000000',line_width=1) )"
   ]
  },
  {
   "cell_type": "code",
   "execution_count": 12,
   "metadata": {},
   "outputs": [
    {
     "data": {
      "application/vnd.jupyter.widget-view+json": {
       "model_id": "e7017fc3316f4ade8117c5c3d7033b7d",
       "version_major": 2,
       "version_minor": 0
      },
      "text/plain": [
       "Widget(value='<iframe src=\"http://localhost:55699/index.html?ui=P_0x1ffe13e5ab0_0&reconnect=auto\" class=\"pyvis…"
      ]
     },
     "metadata": {},
     "output_type": "display_data"
    }
   ],
   "source": [
    "# add the probes to the scene\n",
    "# these are probes for MM016\n",
    "probes = [Probe('24', np.array([-2037,887,-4542]), np.array([80,0,130])),\n",
    "          Probe('24', np.array([-1351, 459, -4105]), np.array([70,0,-125])),\n",
    "          Probe('24', np.array([-3378, -921, -4672]), np.array([75,75,35])),\n",
    "          Probe('24', np.array([-3148, -2477, -3490]), np.array([60,0,-20])),\n",
    "          Probe('24', np.array([-1860, -5, -3708]), np.array([45,0,-60]))]\n",
    "for prb in probes:\n",
    "    circ = pv.Sphere(radius=100, center=prb.origin + BREGMA_LOCATION)\n",
    "    p.add_mesh(circ, opacity=1)\n",
    "    for shnk in prb.shanks:\n",
    "        rect = pv.Rectangle(shnk.shank_vectors + BREGMA_LOCATION)\n",
    "        #todo: PLOT A BALL AT THE ORIGIN OF THE PROBE\n",
    "        p.add_mesh(rect,color='#000000',opacity = 1,line_width=3)\n",
    "p.show()"
   ]
  },
  {
   "cell_type": "code",
   "execution_count": null,
   "metadata": {},
   "outputs": [],
   "source": []
  }
 ],
 "metadata": {
  "kernelspec": {
   "display_name": "Python 3 (ipykernel)",
   "language": "python",
   "name": "python3"
  },
  "language_info": {
   "codemirror_mode": {
    "name": "ipython",
    "version": 3
   },
   "file_extension": ".py",
   "mimetype": "text/x-python",
   "name": "python",
   "nbconvert_exporter": "python",
   "pygments_lexer": "ipython3",
   "version": "3.11.5"
  }
 },
 "nbformat": 4,
 "nbformat_minor": 4
}
