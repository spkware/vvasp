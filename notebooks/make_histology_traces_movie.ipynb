{
 "cells": [
  {
   "cell_type": "markdown",
   "metadata": {},
   "source": [
    "## Make a movie with histology traces"
   ]
  },
  {
   "cell_type": "code",
   "execution_count": null,
   "metadata": {},
   "outputs": [],
   "source": [
    "# You may need to downgrade imageio  and install imagio-ffmpeg if you get an error when writing frames\n",
    "#!imageio==2.19.5\n",
    "#!pip install imageio-ffmpeg"
   ]
  },
  {
   "cell_type": "code",
   "execution_count": null,
   "metadata": {},
   "outputs": [],
   "source": [
    "import pyvista as pv\n",
    "import numpy as np\n",
    "from pathlib import Path\n",
    "from tqdm import tqdm\n",
    "import os\n",
    "\n",
    "from vvasp.atlas_utils import VVASPAtlas"
   ]
  },
  {
   "cell_type": "code",
   "execution_count": null,
   "metadata": {},
   "outputs": [],
   "source": [
    "# add atlas regions\n",
    "plotter = pv.Plotter()\n",
    "#plotter = BackgroundPlotter()\n",
    "atlas = VVASPAtlas(plotter, show_root=False, mapping='Cosmos')\n",
    "atlas.show_all_regions(opacity=.10, silhouette=False)"
   ]
  },
  {
   "cell_type": "code",
   "execution_count": null,
   "metadata": {},
   "outputs": [],
   "source": [
    "# add the channel locations to the plot\n",
    "channel_locations_path = Path(os.path.abspath(\"\")).parent / 'assets' / 'channel_locations_demo.npy'\n",
    "xyz = np.load(channel_locations_path)\n",
    "for x, y, z in tqdm(xyz):\n",
    "    plotter.add_mesh(pv.Sphere(center=(x, y, z), radius=30), color='yellow')"
   ]
  },
  {
   "cell_type": "code",
   "execution_count": null,
   "metadata": {},
   "outputs": [],
   "source": [
    "# write the frames to a video file\n",
    "filename = 'test.mp4'\n",
    "delta_angle = 1\n",
    "plotter.open_movie(filename, framerate=30, quality=10)\n",
    "plotter.write_frame()\n",
    "for i in tqdm(range(300)):\n",
    "    plotter.camera.azimuth = plotter.camera.azimuth + delta_angle\n",
    "    plotter.write_frame()\n",
    "plotter.close()"
   ]
  }
 ],
 "metadata": {
  "kernelspec": {
   "display_name": "spks",
   "language": "python",
   "name": "python3"
  },
  "language_info": {
   "codemirror_mode": {
    "name": "ipython",
    "version": 3
   },
   "file_extension": ".py",
   "mimetype": "text/x-python",
   "name": "python",
   "nbconvert_exporter": "python",
   "pygments_lexer": "ipython3",
   "version": "3.10.12"
  }
 },
 "nbformat": 4,
 "nbformat_minor": 2
}
